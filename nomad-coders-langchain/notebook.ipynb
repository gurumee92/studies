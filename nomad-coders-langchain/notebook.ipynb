{
 "cells": [
  {
   "cell_type": "code",
   "execution_count": 2,
   "metadata": {},
   "outputs": [],
   "source": [
    "# from langchain.llms import OpenAI\n",
    "from langchain.chat_models import ChatOpenAI\n",
    "\n",
    "\n",
    "# llm = OpenAI(model_name=\"gpt-3.5-turbo-1106\") \n",
    "chat = ChatOpenAI(\n",
    "    temperature=0.1\n",
    ")"
   ]
  },
  {
   "cell_type": "code",
   "execution_count": 10,
   "metadata": {},
   "outputs": [
    {
     "data": {
      "text/plain": [
       "AIMessage(content='안녕하세요, 제 이름은 구르미입니다. 한국과 일본 사이의 거리는 직선거리로 약 900km 정도입니다. 그러나 실제로 이동하는 경우에는 해상이나 공기로 이동하므로 더 길어질 수 있습니다.')"
      ]
     },
     "execution_count": 10,
     "metadata": {},
     "output_type": "execute_result"
    }
   ],
   "source": [
    "# 3.1 predict message\n",
    "from langchain.schema import HumanMessage, AIMessage, SystemMessage\n",
    "\n",
    "\n",
    "prompt = [\n",
    "    SystemMessage(content=\"너는 지리학 전문가야, 오로지 한국어로만 대답할 수 있어\"),\n",
    "    AIMessage(content=\"안녕 나는 구르미야\"),\n",
    "    HumanMessage(content=\"한국과 일본 사이의 거리는 얼마인가요? 그리고 너의 이름은 뭔가요?\")\n",
    "]\n",
    "\n",
    "chat.predict_messages(messages=prompt)"
   ]
  },
  {
   "cell_type": "code",
   "execution_count": 5,
   "metadata": {},
   "outputs": [
    {
     "data": {
      "text/plain": [
       "AIMessage(content='중국과 미국 사이의 거리는 대략 11,000km 정도입니다. 내 이름은 륜륜이에요.')"
      ]
     },
     "execution_count": 5,
     "metadata": {},
     "output_type": "execute_result"
    }
   ],
   "source": [
    "# 3.2 prompt template\n",
    "from langchain.schema import HumanMessage, AIMessage, SystemMessage\n",
    "from langchain.prompts import PromptTemplate, ChatPromptTemplate\n",
    "# template = PromptTemplate.from_template(\"{country_a}과 {country_b} 사이의 거리는 얼마인가요? 그리고 너의 이름은 뭔가요?\")\n",
    "# prompt = template.format(country_a=\"멕시코\", country_b=\"태국\")\n",
    "\n",
    "template = ChatPromptTemplate.from_messages(\n",
    "    [\n",
    "        (\"system\", \"너는 지리학 전문가야, 오로지 {language}로만 대답할 수 있어\"),\n",
    "        (\"ai\", \"안녕 나는 {name}야\"),\n",
    "        (\"human\", \"{country_a}과 {country_b} 사이의 거리는 얼마인가요? 그리고 너의 이름은 뭔가요?\"),\n",
    "    ]\n",
    ")\n",
    "prompt = template.format_messages(\n",
    "    language=\"한국어\",\n",
    "    name=\"륜륜이\",\n",
    "    country_a=\"중국\",\n",
    "    country_b=\"미국\"\n",
    ")\n",
    "\n",
    "chat.predict_messages(prompt)"
   ]
  }
 ],
 "metadata": {
  "kernelspec": {
   "display_name": "venv",
   "language": "python",
   "name": "python3"
  },
  "language_info": {
   "codemirror_mode": {
    "name": "ipython",
    "version": 3
   },
   "file_extension": ".py",
   "mimetype": "text/x-python",
   "name": "python",
   "nbconvert_exporter": "python",
   "pygments_lexer": "ipython3",
   "version": "3.11.6"
  }
 },
 "nbformat": 4,
 "nbformat_minor": 2
}
